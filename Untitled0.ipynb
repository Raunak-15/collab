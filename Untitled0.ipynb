{
  "nbformat": 4,
  "nbformat_minor": 0,
  "metadata": {
    "colab": {
      "name": "Untitled0.ipynb",
      "provenance": [],
      "authorship_tag": "ABX9TyPYX7pvwoKFNLFSK7ScFf3+",
      "include_colab_link": true
    },
    "kernelspec": {
      "name": "python3",
      "display_name": "Python 3"
    },
    "language_info": {
      "name": "python"
    }
  },
  "cells": [
    {
      "cell_type": "markdown",
      "metadata": {
        "id": "view-in-github",
        "colab_type": "text"
      },
      "source": [
        "<a href=\"https://colab.research.google.com/github/Raunak-15/collab/blob/main/Untitled0.ipynb\" target=\"_parent\"><img src=\"https://colab.research.google.com/assets/colab-badge.svg\" alt=\"Open In Colab\"/></a>"
      ]
    },
    {
      "cell_type": "code",
      "source": [
        "list1 = (12, 43, 3, 87, 9, 71, 19, 62, 50)\n",
        "\n",
        "# list1 = sort(list1)\n",
        "print(list1)"
      ],
      "metadata": {
        "colab": {
          "base_uri": "https://localhost:8080/"
        },
        "id": "JWyxbWYHUTd0",
        "outputId": "3a74b00a-5996-4b4c-da48-09a5fb925307"
      },
      "execution_count": null,
      "outputs": [
        {
          "output_type": "stream",
          "name": "stdout",
          "text": [
            "(12, 43, 3, 87, 9, 71, 19, 62, 50)\n"
          ]
        }
      ]
    },
    {
      "cell_type": "code",
      "execution_count": null,
      "metadata": {
        "colab": {
          "base_uri": "https://localhost:8080/"
        },
        "id": "Blj5ZgRmUQ00",
        "outputId": "b7a65afc-32bc-4910-acc1-f6337654cf3e"
      },
      "outputs": [
        {
          "output_type": "stream",
          "name": "stdout",
          "text": [
            "{'name': 'Raunak', 'class': 'cyber security'}\n"
          ]
        }
      ],
      "source": [
        "dict1 = {\n",
        "    'name':'Raunak' , 'class':'cyber security'\n",
        "}\n",
        "\n",
        "print(dict1)"
      ]
    },
    {
      "cell_type": "code",
      "source": [],
      "metadata": {
        "id": "m2Uu06B2Xqhi"
      },
      "execution_count": null,
      "outputs": []
    }
  ]
}